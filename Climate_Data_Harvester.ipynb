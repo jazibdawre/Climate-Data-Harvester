{
  "nbformat": 4,
  "nbformat_minor": 0,
  "metadata": {
    "colab": {
      "name": "Climate Data Harvester.ipynb",
      "provenance": [],
      "collapsed_sections": [],
      "authorship_tag": "ABX9TyMy3ZFeuW62J0Q7WPct/iir",
      "include_colab_link": true
    },
    "kernelspec": {
      "name": "python3",
      "display_name": "Python 3"
    },
    "language_info": {
      "name": "python"
    }
  },
  "cells": [
    {
      "cell_type": "markdown",
      "metadata": {
        "id": "view-in-github",
        "colab_type": "text"
      },
      "source": [
        "<a href=\"https://colab.research.google.com/github/jazibdawre/Climate-Data-Harvester/blob/main/Climate_Data_Harvester.ipynb\" target=\"_parent\"><img src=\"https://colab.research.google.com/assets/colab-badge.svg\" alt=\"Open In Colab\"/></a>"
      ]
    },
    {
      "cell_type": "code",
      "metadata": {
        "id": "eeRZ2yd0soNK"
      },
      "source": [
        "#!/usr/bin/env python3\n",
        "# ==============================================================================\n",
        "'''\n",
        "    File name: Climate Data Harvester.ipynb\n",
        "    Author: Jazib Dawre <jazib980@gmail.com>\n",
        "    Version: 1.0.0\n",
        "    Date created: 13/04/2021\n",
        "    Description: Climate and Hazard data harvester\n",
        "    Python Version: 3+ (Tested on Windows 64-bit, Google Colab (Ubuntu))\n",
        "    Optional Repositories: None\n",
        "    License: MIT License\n",
        "\n",
        "    Copyright (c) 2021 Jazib Dawre\n",
        "\n",
        "    Permission is hereby granted, free of charge, to any person obtaining a copy\n",
        "    of this software and associated documentation files (the \"Software\"), to \n",
        "    deal in the Software without restriction, including without limitation the\n",
        "    rights to use, copy, modify, merge, publish, distribute, sublicense, and/or \n",
        "    sell copies of the Software, and to permit persons to whom the Software is\n",
        "    furnished to do so, subject to the following conditions:\n",
        "\n",
        "    The above copyright notice and this permission notice shall be included in \n",
        "    all copies or substantial portions of the Software.\n",
        "\n",
        "    THE SOFTWARE IS PROVIDED \"AS IS\", WITHOUT WARRANTY OF ANY KIND, EXPRESS OR\n",
        "    IMPLIED, INCLUDING BUT NOT LIMITED TO THE WARRANTIES OF MERCHANTABILITY,\n",
        "    FITNESS FOR A PARTICULAR PURPOSE AND NONINFRINGEMENT. IN NO EVENT SHALL THE\n",
        "    AUTHORS OR COPYRIGHT HOLDERS BE LIABLE FOR ANY CLAIM, DAMAGES OR OTHER\n",
        "    LIABILITY, WHETHER IN AN ACTION OF CONTRACT, TORT OR OTHERWISE, ARISING FROM\n",
        "    , OUT OF OR IN CONNECTION WITH THE SOFTWARE OR THE USE OR OTHER DEALINGS IN \n",
        "    THE SOFTWARE.\n",
        "'''\n",
        "# ==============================================================================\n",
        "import pandas as pd\n",
        "import requests\n",
        "import bs4\n",
        "# ==============================================================================\n",
        "# Openweather API key\n",
        "key = input('Openweather API key: ')"
      ],
      "execution_count": null,
      "outputs": []
    },
    {
      "cell_type": "code",
      "metadata": {
        "id": "cBF8uQw-swDc"
      },
      "source": [
        "#Classes\n",
        "\n",
        "class API:\n",
        "    def __init__(self, key):\n",
        "        self.key = key\n",
        "        self.latitude = None\n",
        "        self.longitude = None\n",
        "\n",
        "    def set_location(self, query):\n",
        "        # Cache check, can be replaced by a proper caching software with frequency considerations\n",
        "        with open(\"coordinates.csv\", \"r\") as cache:\n",
        "            for line in cache.read().split('\\n'):\n",
        "                data = line.split(',')\n",
        "                if data[0]==query:\n",
        "                    self.latitude = data[1]\n",
        "                    self.longitude = data[2]\n",
        "                    return\n",
        "\n",
        "        # Scraping google searh for geocoding\n",
        "        response = requests.get(\n",
        "            f\"https://www.google.com/search?q={query}+coordinates\")\n",
        "\n",
        "        soup = bs4.BeautifulSoup(response.text, \"html.parser\")\n",
        "\n",
        "        coords = soup.find(\"div\", \"BNeawe iBp4i AP7Wnd\").text.split(',')\n",
        "        self.latitude = coords[0][:7]\n",
        "        self.longitude = coords[1].strip()[:7]\n",
        "\n",
        "        with open(\"coordinates.csv\", \"a\") as cache:\n",
        "            cache.writelines(f'{query},{self.latitude},{self.longitude}\\n')\n",
        "\n",
        "    def weather_data(self):\n",
        "        return requests.get(\n",
        "            f\"https://api.openweathermap.org/data/2.5/onecall?lat={self.latitude}&lon={self.longitude}&exclude=minutely,hourly,daily&appid={self.key}\")\n",
        "\n",
        "    def air_pollution(self):\n",
        "        return requests.get(\n",
        "            f\"http://api.openweathermap.org/data/2.5/air_pollution?lat={self.latitude}&lon={self.longitude}&appid={self.key}\")\n",
        "\n",
        "\n",
        "class Data(API):\n",
        "    def __init__(self, key):\n",
        "        super().__init__(key)\n",
        "\n",
        "    def fetch_data(self):\n",
        "        # Current Weather\n",
        "        df = pd.json_normalize(data = self.weather_data().json()['current'], record_path='weather', meta=['dt','sunrise','sunset','temp','feels_like','pressure','humidity','dew_point','uvi','clouds','visibility','wind_speed','wind_deg'], record_prefix='weather ', meta_prefix='current ')\n",
        "        \n",
        "        # Air Pollution\n",
        "        df2 = pd.json_normalize(data = self.air_pollution().json(), record_path='list')\n",
        "        \n",
        "        # Merge data\n",
        "        df3 = pd.concat([df,df2], axis=1)\n",
        "        df3['latitude'] = self.latitude\n",
        "        df3['longitude'] = self.longitude\n",
        "\n",
        "        self.data = df3\n",
        "\n",
        "    def print_data(self):\n",
        "        display(self.data)"
      ],
      "execution_count": 2,
      "outputs": []
    },
    {
      "cell_type": "code",
      "metadata": {
        "id": "MmXRajys_C0g"
      },
      "source": [
        "# Just for brevity\n",
        "with open(\"coordinates.csv\", \"w\") as cache:\n",
        "    cache.writelines('query,latitude,longitude\\n')"
      ],
      "execution_count": 3,
      "outputs": []
    },
    {
      "cell_type": "code",
      "metadata": {
        "colab": {
          "base_uri": "https://localhost:8080/",
          "height": 136
        },
        "id": "Rs_w-DJHsy4b",
        "outputId": "54026d35-8104-4549-862b-a3e1a7881586"
      },
      "source": [
        "# Driver\n",
        "def main():\n",
        "    query = input('Enter location: ')\n",
        "    harvester = Data(key)\n",
        "    harvester.set_location(query)\n",
        "    harvester.fetch_data()\n",
        "    harvester.print_data()\n",
        "\n",
        "if __name__ == '__main__':\n",
        "    main()"
      ],
      "execution_count": 6,
      "outputs": [
        {
          "output_type": "stream",
          "text": [
            "Enter location: maharashtra\n"
          ],
          "name": "stdout"
        },
        {
          "output_type": "display_data",
          "data": {
            "text/html": [
              "<div>\n",
              "<style scoped>\n",
              "    .dataframe tbody tr th:only-of-type {\n",
              "        vertical-align: middle;\n",
              "    }\n",
              "\n",
              "    .dataframe tbody tr th {\n",
              "        vertical-align: top;\n",
              "    }\n",
              "\n",
              "    .dataframe thead th {\n",
              "        text-align: right;\n",
              "    }\n",
              "</style>\n",
              "<table border=\"1\" class=\"dataframe\">\n",
              "  <thead>\n",
              "    <tr style=\"text-align: right;\">\n",
              "      <th></th>\n",
              "      <th>weather id</th>\n",
              "      <th>weather main</th>\n",
              "      <th>weather description</th>\n",
              "      <th>weather icon</th>\n",
              "      <th>current dt</th>\n",
              "      <th>current sunrise</th>\n",
              "      <th>current sunset</th>\n",
              "      <th>current temp</th>\n",
              "      <th>current feels_like</th>\n",
              "      <th>current pressure</th>\n",
              "      <th>current humidity</th>\n",
              "      <th>current dew_point</th>\n",
              "      <th>current uvi</th>\n",
              "      <th>current clouds</th>\n",
              "      <th>current visibility</th>\n",
              "      <th>current wind_speed</th>\n",
              "      <th>current wind_deg</th>\n",
              "      <th>dt</th>\n",
              "      <th>main.aqi</th>\n",
              "      <th>components.co</th>\n",
              "      <th>components.no</th>\n",
              "      <th>components.no2</th>\n",
              "      <th>components.o3</th>\n",
              "      <th>components.so2</th>\n",
              "      <th>components.pm2_5</th>\n",
              "      <th>components.pm10</th>\n",
              "      <th>components.nh3</th>\n",
              "      <th>latitude</th>\n",
              "      <th>longitude</th>\n",
              "    </tr>\n",
              "  </thead>\n",
              "  <tbody>\n",
              "    <tr>\n",
              "      <th>0</th>\n",
              "      <td>721</td>\n",
              "      <td>Haze</td>\n",
              "      <td>haze</td>\n",
              "      <td>50d</td>\n",
              "      <td>1618399382</td>\n",
              "      <td>1618360800</td>\n",
              "      <td>1618406067</td>\n",
              "      <td>308.15</td>\n",
              "      <td>307.06</td>\n",
              "      <td>1009</td>\n",
              "      <td>26</td>\n",
              "      <td>285.79</td>\n",
              "      <td>1.74</td>\n",
              "      <td>75</td>\n",
              "      <td>4000</td>\n",
              "      <td>2.06</td>\n",
              "      <td>40</td>\n",
              "      <td>1618398000</td>\n",
              "      <td>4</td>\n",
              "      <td>387.19</td>\n",
              "      <td>0.04</td>\n",
              "      <td>1.03</td>\n",
              "      <td>140.19</td>\n",
              "      <td>5.31</td>\n",
              "      <td>38.9</td>\n",
              "      <td>45.74</td>\n",
              "      <td>3.04</td>\n",
              "      <td>19.7515</td>\n",
              "      <td>75.7139</td>\n",
              "    </tr>\n",
              "  </tbody>\n",
              "</table>\n",
              "</div>"
            ],
            "text/plain": [
              "   weather id weather main  ... latitude longitude\n",
              "0         721         Haze  ...  19.7515   75.7139\n",
              "\n",
              "[1 rows x 29 columns]"
            ]
          },
          "metadata": {
            "tags": []
          }
        }
      ]
    },
    {
      "cell_type": "code",
      "metadata": {
        "id": "wEs0UCH73JNf"
      },
      "source": [
        "# Only the current data is shown, historic data is available but is paid"
      ],
      "execution_count": null,
      "outputs": []
    },
    {
      "cell_type": "code",
      "metadata": {
        "colab": {
          "base_uri": "https://localhost:8080/"
        },
        "id": "_T81ETlsG4DW",
        "outputId": "e264967f-40fe-49d9-ee46-4c6965260362"
      },
      "source": [
        "# Output of cache\n",
        "with open(\"coordinates.csv\", \"r\") as cache:\n",
        "    for line in cache.read().split('\\n'):\n",
        "        print(line)"
      ],
      "execution_count": 7,
      "outputs": [
        {
          "output_type": "stream",
          "text": [
            "query,latitude,longitude\n",
            "mumbai,19.0760,72.8777\n",
            "india,20.5937,78.9629\n",
            "maharashtra,19.7515,75.7139\n",
            "\n"
          ],
          "name": "stdout"
        }
      ]
    }
  ]
}